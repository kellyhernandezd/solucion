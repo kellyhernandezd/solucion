{
  "nbformat": 4,
  "nbformat_minor": 0,
  "metadata": {
    "colab": {
      "provenance": [],
      "authorship_tag": "ABX9TyPwEqFxjuV5wassfuTGsCQy",
      "include_colab_link": true
    },
    "kernelspec": {
      "name": "python3",
      "display_name": "Python 3"
    },
    "language_info": {
      "name": "python"
    }
  },
  "cells": [
    {
      "cell_type": "markdown",
      "metadata": {
        "id": "view-in-github",
        "colab_type": "text"
      },
      "source": [
        "<a href=\"https://colab.research.google.com/github/kellyhernandezd/solucion/blob/main/Untitled14.ipynb\" target=\"_parent\"><img src=\"https://colab.research.google.com/assets/colab-badge.svg\" alt=\"Open In Colab\"/></a>"
      ]
    },
    {
      "cell_type": "code",
      "execution_count": null,
      "metadata": {
        "id": "kHUTRdV562qz"
      },
      "outputs": [],
      "source": []
    },
    {
      "cell_type": "markdown",
      "source": [
        "1. Escribe un programa en Python que solicite al usuario un número entero positivo n y luego imprima los primeros n números naturales usando un ciclo while."
      ],
      "metadata": {
        "id": "Z4Fozxsq63fj"
      }
    },
    {
      "cell_type": "code",
      "source": [
        "n = int(input(\"Por favor, ingrese un número entero positivo n: \"))\n",
        "\n",
        "if n <= 0:\n",
        "    print(\"Por favor, ingrese un número entero positivo.\")\n",
        "else:\n",
        "    contador = 1\n",
        "\n",
        "    while contador <= n:\n",
        "        print(contador)\n",
        "        contador += 1"
      ],
      "metadata": {
        "colab": {
          "base_uri": "https://localhost:8080/"
        },
        "id": "ggPAwrXi67lK",
        "outputId": "6e733875-9330-4c65-8187-8b2ddac5e0bd"
      },
      "execution_count": 4,
      "outputs": [
        {
          "output_type": "stream",
          "name": "stdout",
          "text": [
            "Por favor, ingrese un número entero positivo n: 5\n",
            "1\n",
            "2\n",
            "3\n",
            "4\n",
            "5\n"
          ]
        }
      ]
    },
    {
      "cell_type": "markdown",
      "source": [
        "2.Escribe un programa en Python que calcule la suma de todos los números pares del 1 al 100 utilizando un ciclo for."
      ],
      "metadata": {
        "id": "4HNsz9OI7jHZ"
      }
    },
    {
      "cell_type": "code",
      "source": [
        "suma_pares = 0\n",
        "\n",
        "for numero in range(2, 101, 2):\n",
        "    suma_pares += numero\n",
        "\n",
        "print(\"La suma de todos los números pares del 1 al 100 es:\", suma_pares)"
      ],
      "metadata": {
        "colab": {
          "base_uri": "https://localhost:8080/"
        },
        "id": "H3w5QDPj7rDU",
        "outputId": "2bcffafb-7e39-4b82-fc74-74eb82e6f11a"
      },
      "execution_count": 7,
      "outputs": [
        {
          "output_type": "stream",
          "name": "stdout",
          "text": [
            "La suma de todos los números pares del 1 al 100 es: 2550\n"
          ]
        }
      ]
    },
    {
      "cell_type": "markdown",
      "source": [
        "3. Escribe un programa en Python que imprima el siguiente patrón utilizando ciclos anidados: 1 1,2 1,2,3 1,2,3,4 1,2,3,4,5 Etc…."
      ],
      "metadata": {
        "id": "KHcwh_hB8E8o"
      }
    },
    {
      "cell_type": "code",
      "source": [
        "num_filas = int(input(\"Ingrese el número de filas para el patrón: \"))\n",
        "\n",
        "for i in range(1, num_filas + 1):\n",
        "    for j in range(1, i + 1):\n",
        "        print(j, end='')\n",
        "    print()\n",
        ""
      ],
      "metadata": {
        "colab": {
          "base_uri": "https://localhost:8080/"
        },
        "id": "V4Vwx09B8KkL",
        "outputId": "065ca1ae-f208-4719-c796-935682b6a121"
      },
      "execution_count": 8,
      "outputs": [
        {
          "output_type": "stream",
          "name": "stdout",
          "text": [
            "Ingrese el número de filas para el patrón: 7\n",
            "1\n",
            "12\n",
            "123\n",
            "1234\n",
            "12345\n",
            "123456\n",
            "1234567\n"
          ]
        }
      ]
    },
    {
      "cell_type": "markdown",
      "source": [
        "4. Escribe un programa en Python que solicite al usuario un número entero positivo y luego determine si ese número es primo o no utilizando un ciclo while."
      ],
      "metadata": {
        "id": "VrO5r7nB8Yxm"
      }
    },
    {
      "cell_type": "code",
      "source": [
        "n = int(input(\"Ingrese un número entero positivo: \"))\n",
        "\n",
        "if n <= 0:\n",
        "    print(\"Por favor, ingrese un número entero positivo.\")\n",
        "else:\n",
        "    contador = 0\n",
        "    divisor = 1\n",
        "\n",
        "    while divisor <= n:\n",
        "        if n % divisor == 0:\n",
        "            contador += 1\n",
        "        if contador > 2:\n",
        "            break\n",
        "        divisor += 1\n",
        "\n",
        "    if contador == 2:\n",
        "        print(n, \"es un número primo.\")\n",
        "    else:\n",
        "        print(n, \"no es un número primo.\")"
      ],
      "metadata": {
        "colab": {
          "base_uri": "https://localhost:8080/"
        },
        "id": "nC9cW98o8ZpC",
        "outputId": "9e0cd2d8-c2e6-4e24-f56f-b02be7554622"
      },
      "execution_count": 9,
      "outputs": [
        {
          "output_type": "stream",
          "name": "stdout",
          "text": [
            "Ingrese un número entero positivo: 10\n",
            "10 no es un número primo.\n"
          ]
        }
      ]
    },
    {
      "cell_type": "markdown",
      "source": [
        "5. Escribe un programa en Python que incluya un ciclo while que no se detenga hasta que el usuario ingrese \"salir\" como entrada. Dentro del ciclo, permite al usuario realizar operaciones matemáticas simples como suma, resta, multiplicación o división.\n"
      ],
      "metadata": {
        "id": "TYG5Qyma8yFY"
      }
    },
    {
      "cell_type": "code",
      "source": [
        "while True:\n",
        "    entrada = input(\"Ingrese una operación (+, -, *, /) o 'salir' para terminar: \")\n",
        "\n",
        "    if entrada.lower() == \"salir\":\n",
        "        print(\"¡Hasta luego!\")\n",
        "        break  # Salir del ciclo\n",
        "\n",
        "    if entrada in ('+', '-', '*', '/'):\n",
        "        num1 = float(input(\"Ingrese el primer número: \"))\n",
        "        num2 = float(input(\"Ingrese el segundo número: \"))\n",
        "\n",
        "        if entrada == '+':\n",
        "            resultado = num1 + num2\n",
        "        elif entrada == '-':\n",
        "            resultado = num1 - num2\n",
        "        elif entrada == '*':\n",
        "            resultado = num1 * num2\n",
        "        elif entrada == '/':\n",
        "            if num2 == 0:\n",
        "                print(\"No se puede dividir por cero.\")\n",
        "                continue\n",
        "            resultado = num1 / num2\n",
        "\n",
        "        print(\"Resultado:\", resultado)\n",
        "    else:\n",
        "        print(\"Operación no válida. Por favor, ingrese una operación válida (+, -, *, /) o 'salir'.\")6"
      ],
      "metadata": {
        "colab": {
          "base_uri": "https://localhost:8080/"
        },
        "id": "20uJuPBJ8118",
        "outputId": "a957ea29-eda4-4c73-96f5-c61b412561d1"
      },
      "execution_count": null,
      "outputs": [
        {
          "output_type": "stream",
          "name": "stdout",
          "text": [
            "Ingrese una operación (+, -, *, /) o 'salir' para terminar: +\n",
            "Ingrese el primer número: 5\n",
            "Ingrese el segundo número: 5\n",
            "Resultado: 10.0\n",
            "Ingrese una operación (+, -, *, /) o 'salir' para terminar: *6\n",
            "Operación no válida. Por favor, ingrese una operación válida (+, -, *, /) o 'salir'.\n",
            "Ingrese una operación (+, -, *, /) o 'salir' para terminar: *\n",
            "Ingrese el primer número: 6\n",
            "Ingrese el segundo número: 6\n",
            "Resultado: 36.0\n",
            "Ingrese una operación (+, -, *, /) o 'salir' para terminar: %\n",
            "Operación no válida. Por favor, ingrese una operación válida (+, -, *, /) o 'salir'.\n",
            "Ingrese una operación (+, -, *, /) o 'salir' para terminar: 4\n",
            "Operación no válida. Por favor, ingrese una operación válida (+, -, *, /) o 'salir'.\n",
            "Ingrese una operación (+, -, *, /) o 'salir' para terminar: /\n",
            "Ingrese el primer número: 5\n",
            "Ingrese el segundo número: 5\n",
            "Resultado: 1.0\n"
          ]
        }
      ]
    },
    {
      "cell_type": "markdown",
      "source": [
        "6. Escribe un programa en Python que imprima los números del 1 al número ingresado por el usuario, en orden descendente utilizando un ciclo for y la función range()."
      ],
      "metadata": {
        "id": "FSoWdUPo-z20"
      }
    },
    {
      "cell_type": "code",
      "source": [
        "numero = int(input(\"Ingrese un número entero: \"))\n",
        "\n",
        "if numero <= 0:\n",
        "    print(\"Por favor, ingrese un número entero positivo.\")\n",
        "else:\n",
        "    for i in range(numero, 0, -1):\n",
        "        print(i)"
      ],
      "metadata": {
        "colab": {
          "base_uri": "https://localhost:8080/"
        },
        "id": "CJETTnwI-32e",
        "outputId": "d18efe1e-d80a-4cbc-aeac-1d562919cae1"
      },
      "execution_count": 14,
      "outputs": [
        {
          "output_type": "stream",
          "name": "stdout",
          "text": [
            "Ingrese un número entero: 7\n",
            "7\n",
            "6\n",
            "5\n",
            "4\n",
            "3\n",
            "2\n",
            "1\n"
          ]
        }
      ]
    },
    {
      "cell_type": "markdown",
      "source": [
        "7. Escribe un programa en Python que imprima la secuencia de números de Fibonacci hasta un valor dado n utilizando un ciclo while."
      ],
      "metadata": {
        "id": "oTLrFTnm_Q5B"
      }
    },
    {
      "cell_type": "code",
      "source": [
        "n = int(input(\"Ingrese un valor máximo para la secuencia de Fibonacci: \"))\n",
        "\n",
        "a, b = 0, 1\n",
        "\n",
        "while a <= n:\n",
        "    print(a, end=' ')\n",
        "    a, b = b, a + b"
      ],
      "metadata": {
        "colab": {
          "base_uri": "https://localhost:8080/"
        },
        "id": "CnnCim73_UdF",
        "outputId": "4e7770a6-d197-4520-f5a4-159be2cf5e31"
      },
      "execution_count": 16,
      "outputs": [
        {
          "output_type": "stream",
          "name": "stdout",
          "text": [
            "Ingrese un valor máximo para la secuencia de Fibonacci: 20\n",
            "0 1 1 2 3 5 8 13 "
          ]
        }
      ]
    },
    {
      "cell_type": "markdown",
      "source": [
        "8. Escribe un programa en Python que solicite al usuario un número entero positivo y luego calcule la suma de sus dígitos utilizando un ciclo while."
      ],
      "metadata": {
        "id": "iIbdAQPo_hBw"
      }
    },
    {
      "cell_type": "code",
      "source": [
        "numero = int(input(\"Ingrese un número entero positivo: \"))\n",
        "\n",
        "if numero <= 0:\n",
        "    print(\"Por favor, ingrese un número entero positivo.\")\n",
        "else:\n",
        "    suma_digitos = 0\n",
        "\n",
        "    while numero > 0:\n",
        "        digito = numero % 10\n",
        "        suma_digitos += digito\n",
        "        numero //= 10\n",
        "\n",
        "    print(\"La suma de los dígitos es:\", suma_digitos)"
      ],
      "metadata": {
        "colab": {
          "base_uri": "https://localhost:8080/"
        },
        "id": "lWNspLcv_h0Z",
        "outputId": "fd5f4b8f-a865-465f-cb92-13f4df1298e7"
      },
      "execution_count": 18,
      "outputs": [
        {
          "output_type": "stream",
          "name": "stdout",
          "text": [
            "Ingrese un número entero positivo: 30\n",
            "La suma de los dígitos es: 3\n"
          ]
        }
      ]
    },
    {
      "cell_type": "markdown",
      "source": [],
      "metadata": {
        "id": "tYlWaUi8-eKQ"
      }
    }
  ]
}